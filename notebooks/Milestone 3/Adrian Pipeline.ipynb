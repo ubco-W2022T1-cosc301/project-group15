{
 "cells": [
  {
   "cell_type": "markdown",
   "metadata": {},
   "source": [
    "```\n",
    "1. Load the all_games.csv dataset with pandas\n",
    "2. Sort the value in user_review in descending order\n",
    "3. Filter rows that contains \"tbd\" from user_review \n",
    "4. Drop duplicates from column name\n",
    "5. Rename all columns with the right name\n",
    "6. Filter out the meta_score column from the dataset\n",
    "7. Print the final dataset\n",
    "```"
   ]
  }
 ],
 "metadata": {
  "kernelspec": {
   "display_name": "Python 3.9.12 ('base')",
   "language": "python",
   "name": "python3"
  },
  "language_info": {
   "name": "python",
   "version": "3.9.12"
  },
  "orig_nbformat": 4,
  "vscode": {
   "interpreter": {
    "hash": "975064d8d3d76841da6545d74f7ce08046b8a22628138d3f8f012e5fa8e266fc"
   }
  }
 },
 "nbformat": 4,
 "nbformat_minor": 2
}
