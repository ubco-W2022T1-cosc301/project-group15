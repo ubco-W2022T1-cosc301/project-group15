{
 "cells": [
  {
   "cell_type": "markdown",
   "metadata": {},
   "source": [
    "# Adrian Fong"
   ]
  },
  {
   "cell_type": "markdown",
   "metadata": {},
   "source": [
    "## Research question/interests\n",
    "\n",
    "Briefly describe your research question or interests here."
   ]
  },
  {
   "cell_type": "code",
   "execution_count": 4,
   "metadata": {},
   "outputs": [
    {
     "data": {
      "text/html": [
       "<div>\n",
       "<style scoped>\n",
       "    .dataframe tbody tr th:only-of-type {\n",
       "        vertical-align: middle;\n",
       "    }\n",
       "\n",
       "    .dataframe tbody tr th {\n",
       "        vertical-align: top;\n",
       "    }\n",
       "\n",
       "    .dataframe thead th {\n",
       "        text-align: right;\n",
       "    }\n",
       "</style>\n",
       "<table border=\"1\" class=\"dataframe\">\n",
       "  <thead>\n",
       "    <tr style=\"text-align: right;\">\n",
       "      <th></th>\n",
       "      <th>Game Name</th>\n",
       "      <th>Release Date</th>\n",
       "      <th>User Review Summary</th>\n",
       "      <th>Score</th>\n",
       "    </tr>\n",
       "  </thead>\n",
       "  <tbody>\n",
       "    <tr>\n",
       "      <th>4953</th>\n",
       "      <td>Rochard</td>\n",
       "      <td>September 27, 2011</td>\n",
       "      <td>Players embrace the gravity-bending exploits o...</td>\n",
       "      <td>9.7</td>\n",
       "    </tr>\n",
       "    <tr>\n",
       "      <th>9550</th>\n",
       "      <td>After Burner Climax</td>\n",
       "      <td>April 21, 2010</td>\n",
       "      <td>[Xbox Live Arcade] The classic arcade game Aft...</td>\n",
       "      <td>9.7</td>\n",
       "    </tr>\n",
       "    <tr>\n",
       "      <th>4844</th>\n",
       "      <td>GrimGrimoire</td>\n",
       "      <td>June 26, 2007</td>\n",
       "      <td>Lillet Blan was very excited. Her heart had be...</td>\n",
       "      <td>9.7</td>\n",
       "    </tr>\n",
       "    <tr>\n",
       "      <th>14836</th>\n",
       "      <td>Metal Torrent</td>\n",
       "      <td>May 24, 2010</td>\n",
       "      <td>[DSiWare] Prepare for a high level of intensit...</td>\n",
       "      <td>9.7</td>\n",
       "    </tr>\n",
       "    <tr>\n",
       "      <th>10936</th>\n",
       "      <td>Tengami</td>\n",
       "      <td>November 13, 2014</td>\n",
       "      <td>Set in Japan of ancient dark fairy tales, Teng...</td>\n",
       "      <td>9.7</td>\n",
       "    </tr>\n",
       "    <tr>\n",
       "      <th>...</th>\n",
       "      <td>...</td>\n",
       "      <td>...</td>\n",
       "      <td>...</td>\n",
       "      <td>...</td>\n",
       "    </tr>\n",
       "    <tr>\n",
       "      <th>10868</th>\n",
       "      <td>The Sims 4: Star Wars - Journey to Batuu</td>\n",
       "      <td>September 8, 2020</td>\n",
       "      <td>Your Sims are definitely not at home anymore. ...</td>\n",
       "      <td>1.0</td>\n",
       "    </tr>\n",
       "    <tr>\n",
       "      <th>18227</th>\n",
       "      <td>FIFA 20: Legacy Edition</td>\n",
       "      <td>September 27, 2019</td>\n",
       "      <td>Enjoy more control over the Decisive Moments t...</td>\n",
       "      <td>0.7</td>\n",
       "    </tr>\n",
       "    <tr>\n",
       "      <th>10858</th>\n",
       "      <td>Madden NFL 22</td>\n",
       "      <td>August 17, 2021</td>\n",
       "      <td>There will be more detailed staff management a...</td>\n",
       "      <td>0.6</td>\n",
       "    </tr>\n",
       "    <tr>\n",
       "      <th>15693</th>\n",
       "      <td>Warcraft III: Reforged</td>\n",
       "      <td>January 28, 2020</td>\n",
       "      <td>A Classic Favorite, Reforged. Warcraft III: Re...</td>\n",
       "      <td>0.6</td>\n",
       "    </tr>\n",
       "    <tr>\n",
       "      <th>11261</th>\n",
       "      <td>Madden NFL 21</td>\n",
       "      <td>August 25, 2020</td>\n",
       "      <td>Innovative new gameplay mechanics in Madden NF...</td>\n",
       "      <td>0.5</td>\n",
       "    </tr>\n",
       "  </tbody>\n",
       "</table>\n",
       "<p>11397 rows × 4 columns</p>\n",
       "</div>"
      ],
      "text/plain": [
       "                                      Game Name        Release Date  \\\n",
       "4953                                    Rochard  September 27, 2011   \n",
       "9550                        After Burner Climax      April 21, 2010   \n",
       "4844                               GrimGrimoire       June 26, 2007   \n",
       "14836                             Metal Torrent        May 24, 2010   \n",
       "10936                                   Tengami   November 13, 2014   \n",
       "...                                         ...                 ...   \n",
       "10868  The Sims 4: Star Wars - Journey to Batuu   September 8, 2020   \n",
       "18227                   FIFA 20: Legacy Edition  September 27, 2019   \n",
       "10858                             Madden NFL 22     August 17, 2021   \n",
       "15693                    Warcraft III: Reforged    January 28, 2020   \n",
       "11261                             Madden NFL 21     August 25, 2020   \n",
       "\n",
       "                                     User Review Summary Score  \n",
       "4953   Players embrace the gravity-bending exploits o...   9.7  \n",
       "9550   [Xbox Live Arcade] The classic arcade game Aft...   9.7  \n",
       "4844   Lillet Blan was very excited. Her heart had be...   9.7  \n",
       "14836  [DSiWare] Prepare for a high level of intensit...   9.7  \n",
       "10936  Set in Japan of ancient dark fairy tales, Teng...   9.7  \n",
       "...                                                  ...   ...  \n",
       "10868  Your Sims are definitely not at home anymore. ...   1.0  \n",
       "18227  Enjoy more control over the Decisive Moments t...   0.7  \n",
       "10858  There will be more detailed staff management a...   0.6  \n",
       "15693  A Classic Favorite, Reforged. Warcraft III: Re...   0.6  \n",
       "11261  Innovative new gameplay mechanics in Madden NF...   0.5  \n",
       "\n",
       "[11397 rows x 4 columns]"
      ]
     },
     "execution_count": 4,
     "metadata": {},
     "output_type": "execute_result"
    }
   ],
   "source": [
    "import numpy as np\n",
    "import pandas as pd\n",
    "\n",
    "game = (\n",
    "    pd.read_csv(\"../../data/raw/all_games.csv\")\n",
    "    .sort_values('user_review',ascending=False)\n",
    ")\n",
    "df = (\n",
    "    game[~game['user_review'].str.contains(\"tbd\")]\n",
    "    .drop_duplicates(subset=\"name\", keep='first', inplace=False, ignore_index=False)\n",
    "    .rename(columns={\"name\": \"Game Name\", \"release_date\": \"Release Date\", \"summary\": \"User Review Summary\", \"user_review\": \"Score\"})\n",
    "    .loc[:, [\"Game Name\", \"Release Date\",\"User Review Summary\",\"Score\"]]\n",
    ")\n",
    "df"
   ]
  },
  {
   "cell_type": "markdown",
   "metadata": {},
   "source": [
    "```\n",
    "1. Load the all_games.csv dataset with pandas\n",
    "2. Sort the value in user_review in descending order\n",
    "3. Filter rows that contains \"tbd\" from user_review \n",
    "4. Drop duplicates from column name\n",
    "5. Rename all columns with the right name\n",
    "6. Filter out the meta_score column from the dataset\n",
    "7. Print the final dataset\n",
    "```"
   ]
  },
  {
   "cell_type": "markdown",
   "metadata": {},
   "source": [
    "```\n",
    "Game Name, Release Date and Score are the 3 useful visualizations from the table.\n",
    "Because Score shows the high user review score from the dataset.\n",
    "Game Name shows the name of the game with the highest score.\n",
    "Release Date shows the first release date of the game.\n",
    "```"
   ]
  },
  {
   "cell_type": "markdown",
   "metadata": {},
   "source": [
    "```\n",
    "I found it interesting that the type value for user_review(Score) from the dataset is string type instead of integer, which makes it difficult to filter out the rows in user_review(Score) column.\n",
    "The user_review(Score) has a complete different score number than meta_score because user_review is the score rating from users and meta_score is the score rating from the professional video game tester from the company. Therefore, I chose to use the user_review(Score) because the user_review (Score) rating is not bias compare to meta_score.\n",
    "```"
   ]
  }
 ],
 "metadata": {
  "kernelspec": {
   "display_name": "Python 3.9.12 ('base')",
   "language": "python",
   "name": "python3"
  },
  "language_info": {
   "codemirror_mode": {
    "name": "ipython",
    "version": 3
   },
   "file_extension": ".py",
   "mimetype": "text/x-python",
   "name": "python",
   "nbconvert_exporter": "python",
   "pygments_lexer": "ipython3",
   "version": "3.9.12"
  },
  "orig_nbformat": 4,
  "vscode": {
   "interpreter": {
    "hash": "18d2c5ec506502c1ccdcc0892181285f58c3cccb67fc1ab97aada01714b15b9f"
   }
  }
 },
 "nbformat": 4,
 "nbformat_minor": 2
}
