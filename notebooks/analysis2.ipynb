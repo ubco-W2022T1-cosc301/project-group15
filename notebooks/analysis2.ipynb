{
 "cells": [
  {
   "cell_type": "markdown",
   "metadata": {},
   "source": [
    "# Your Name Here"
   ]
  },
  {
   "cell_type": "markdown",
   "metadata": {},
   "source": [
    "## Research question/interests\n",
    "\n",
    "Briefly describe your research question or interests here."
   ]
  }
 ],
 "metadata": {
  "kernelspec": {
   "display_name": "Python 3.9.12 ('base')",
   "language": "python",
   "name": "python3"
  },
  "language_info": {
   "name": "python",
   "version": "3.9.12"
  },
  "vscode": {
   "interpreter": {
    "hash": "18d2c5ec506502c1ccdcc0892181285f58c3cccb67fc1ab97aada01714b15b9f"
   }
  }
 },
 "nbformat": 4,
 "nbformat_minor": 2
}
