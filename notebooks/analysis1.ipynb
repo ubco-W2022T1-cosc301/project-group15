{
 "cells": [
  {
   "cell_type": "markdown",
   "metadata": {},
   "source": [
    "# Edwin Zhou   "
   ]
  },
  {
   "cell_type": "markdown",
   "metadata": {},
   "source": [
    "## Research question/interests\n",
    "\n",
    "My research question: I want to know how video games changed over time.\n",
    "- How did their prices change?\n",
    "- How did more and more games develop? (What was the growth curve?)\n",
    "- Did the number of games that implemented online multiplayer grow linearly or exponentially?\n",
    "- Did more games add achievements over time?"
   ]
  },
  {
   "cell_type": "code",
   "execution_count": 29,
   "metadata": {},
   "outputs": [],
   "source": [
    "import pandas as pd\n",
    "import numpy as np\n",
    "import matplotlib.pyplot as plt\n",
    "import seaborn as sns"
   ]
  },
  {
   "cell_type": "markdown",
   "metadata": {},
   "source": [
    "# EDA\n",
    "Note: EDA is very short since the dataset that we have chosen contained so much text. Data pipeline had to be established before further analysis could be completed."
   ]
  },
  {
   "cell_type": "code",
   "execution_count": 30,
   "metadata": {},
   "outputs": [
    {
     "data": {
      "text/html": [
       "<div>\n",
       "<style scoped>\n",
       "    .dataframe tbody tr th:only-of-type {\n",
       "        vertical-align: middle;\n",
       "    }\n",
       "\n",
       "    .dataframe tbody tr th {\n",
       "        vertical-align: top;\n",
       "    }\n",
       "\n",
       "    .dataframe thead th {\n",
       "        text-align: right;\n",
       "    }\n",
       "</style>\n",
       "<table border=\"1\" class=\"dataframe\">\n",
       "  <thead>\n",
       "    <tr style=\"text-align: right;\">\n",
       "      <th></th>\n",
       "      <th>url</th>\n",
       "      <th>types</th>\n",
       "      <th>name</th>\n",
       "      <th>desc_snippet</th>\n",
       "      <th>recent_reviews</th>\n",
       "      <th>all_reviews</th>\n",
       "      <th>release_date</th>\n",
       "      <th>developer</th>\n",
       "      <th>publisher</th>\n",
       "      <th>popular_tags</th>\n",
       "      <th>game_details</th>\n",
       "      <th>languages</th>\n",
       "      <th>achievements</th>\n",
       "      <th>genre</th>\n",
       "      <th>game_description</th>\n",
       "      <th>mature_content</th>\n",
       "      <th>minimum_requirements</th>\n",
       "      <th>recommended_requirements</th>\n",
       "      <th>original_price</th>\n",
       "      <th>discount_price</th>\n",
       "    </tr>\n",
       "  </thead>\n",
       "  <tbody>\n",
       "    <tr>\n",
       "      <th>0</th>\n",
       "      <td>https://store.steampowered.com/app/379720/DOOM/</td>\n",
       "      <td>app</td>\n",
       "      <td>DOOM</td>\n",
       "      <td>Now includes all three premium DLC packs (Unto...</td>\n",
       "      <td>Very Positive,(554),- 89% of the 554 user revi...</td>\n",
       "      <td>Very Positive,(42,550),- 92% of the 42,550 use...</td>\n",
       "      <td>May 12, 2016</td>\n",
       "      <td>id Software</td>\n",
       "      <td>Bethesda Softworks,Bethesda Softworks</td>\n",
       "      <td>FPS,Gore,Action,Demons,Shooter,First-Person,Gr...</td>\n",
       "      <td>Single-player,Multi-player,Co-op,Steam Achieve...</td>\n",
       "      <td>English,French,Italian,German,Spanish - Spain,...</td>\n",
       "      <td>54.0</td>\n",
       "      <td>Action</td>\n",
       "      <td>About This Game Developed by id software, the...</td>\n",
       "      <td>NaN</td>\n",
       "      <td>Minimum:,OS:,Windows 7/8.1/10 (64-bit versions...</td>\n",
       "      <td>Recommended:,OS:,Windows 7/8.1/10 (64-bit vers...</td>\n",
       "      <td>$19.99</td>\n",
       "      <td>$14.99</td>\n",
       "    </tr>\n",
       "    <tr>\n",
       "      <th>1</th>\n",
       "      <td>https://store.steampowered.com/app/578080/PLAY...</td>\n",
       "      <td>app</td>\n",
       "      <td>PLAYERUNKNOWN'S BATTLEGROUNDS</td>\n",
       "      <td>PLAYERUNKNOWN'S BATTLEGROUNDS is a battle roya...</td>\n",
       "      <td>Mixed,(6,214),- 49% of the 6,214 user reviews ...</td>\n",
       "      <td>Mixed,(836,608),- 49% of the 836,608 user revi...</td>\n",
       "      <td>Dec 21, 2017</td>\n",
       "      <td>PUBG Corporation</td>\n",
       "      <td>PUBG Corporation,PUBG Corporation</td>\n",
       "      <td>Survival,Shooter,Multiplayer,Battle Royale,PvP...</td>\n",
       "      <td>Multi-player,Online Multi-Player,Stats</td>\n",
       "      <td>English,Korean,Simplified Chinese,French,Germa...</td>\n",
       "      <td>37.0</td>\n",
       "      <td>Action,Adventure,Massively Multiplayer</td>\n",
       "      <td>About This Game  PLAYERUNKNOWN'S BATTLEGROUND...</td>\n",
       "      <td>Mature Content Description  The developers de...</td>\n",
       "      <td>Minimum:,Requires a 64-bit processor and opera...</td>\n",
       "      <td>Recommended:,Requires a 64-bit processor and o...</td>\n",
       "      <td>$29.99</td>\n",
       "      <td>NaN</td>\n",
       "    </tr>\n",
       "    <tr>\n",
       "      <th>2</th>\n",
       "      <td>https://store.steampowered.com/app/637090/BATT...</td>\n",
       "      <td>app</td>\n",
       "      <td>BATTLETECH</td>\n",
       "      <td>Take command of your own mercenary outfit of '...</td>\n",
       "      <td>Mixed,(166),- 54% of the 166 user reviews in t...</td>\n",
       "      <td>Mostly Positive,(7,030),- 71% of the 7,030 use...</td>\n",
       "      <td>Apr 24, 2018</td>\n",
       "      <td>Harebrained Schemes</td>\n",
       "      <td>Paradox Interactive,Paradox Interactive</td>\n",
       "      <td>Mechs,Strategy,Turn-Based,Turn-Based Tactics,S...</td>\n",
       "      <td>Single-player,Multi-player,Online Multi-Player...</td>\n",
       "      <td>English,French,German,Russian</td>\n",
       "      <td>128.0</td>\n",
       "      <td>Action,Adventure,Strategy</td>\n",
       "      <td>About This Game  From original BATTLETECH/Mec...</td>\n",
       "      <td>NaN</td>\n",
       "      <td>Minimum:,Requires a 64-bit processor and opera...</td>\n",
       "      <td>Recommended:,Requires a 64-bit processor and o...</td>\n",
       "      <td>$39.99</td>\n",
       "      <td>NaN</td>\n",
       "    </tr>\n",
       "  </tbody>\n",
       "</table>\n",
       "</div>"
      ],
      "text/plain": [
       "                                                 url types  \\\n",
       "0    https://store.steampowered.com/app/379720/DOOM/   app   \n",
       "1  https://store.steampowered.com/app/578080/PLAY...   app   \n",
       "2  https://store.steampowered.com/app/637090/BATT...   app   \n",
       "\n",
       "                            name  \\\n",
       "0                           DOOM   \n",
       "1  PLAYERUNKNOWN'S BATTLEGROUNDS   \n",
       "2                     BATTLETECH   \n",
       "\n",
       "                                        desc_snippet  \\\n",
       "0  Now includes all three premium DLC packs (Unto...   \n",
       "1  PLAYERUNKNOWN'S BATTLEGROUNDS is a battle roya...   \n",
       "2  Take command of your own mercenary outfit of '...   \n",
       "\n",
       "                                      recent_reviews  \\\n",
       "0  Very Positive,(554),- 89% of the 554 user revi...   \n",
       "1  Mixed,(6,214),- 49% of the 6,214 user reviews ...   \n",
       "2  Mixed,(166),- 54% of the 166 user reviews in t...   \n",
       "\n",
       "                                         all_reviews  release_date  \\\n",
       "0  Very Positive,(42,550),- 92% of the 42,550 use...  May 12, 2016   \n",
       "1  Mixed,(836,608),- 49% of the 836,608 user revi...  Dec 21, 2017   \n",
       "2  Mostly Positive,(7,030),- 71% of the 7,030 use...  Apr 24, 2018   \n",
       "\n",
       "             developer                                publisher  \\\n",
       "0          id Software    Bethesda Softworks,Bethesda Softworks   \n",
       "1     PUBG Corporation        PUBG Corporation,PUBG Corporation   \n",
       "2  Harebrained Schemes  Paradox Interactive,Paradox Interactive   \n",
       "\n",
       "                                        popular_tags  \\\n",
       "0  FPS,Gore,Action,Demons,Shooter,First-Person,Gr...   \n",
       "1  Survival,Shooter,Multiplayer,Battle Royale,PvP...   \n",
       "2  Mechs,Strategy,Turn-Based,Turn-Based Tactics,S...   \n",
       "\n",
       "                                        game_details  \\\n",
       "0  Single-player,Multi-player,Co-op,Steam Achieve...   \n",
       "1             Multi-player,Online Multi-Player,Stats   \n",
       "2  Single-player,Multi-player,Online Multi-Player...   \n",
       "\n",
       "                                           languages  achievements  \\\n",
       "0  English,French,Italian,German,Spanish - Spain,...          54.0   \n",
       "1  English,Korean,Simplified Chinese,French,Germa...          37.0   \n",
       "2                      English,French,German,Russian         128.0   \n",
       "\n",
       "                                    genre  \\\n",
       "0                                  Action   \n",
       "1  Action,Adventure,Massively Multiplayer   \n",
       "2               Action,Adventure,Strategy   \n",
       "\n",
       "                                    game_description  \\\n",
       "0   About This Game Developed by id software, the...   \n",
       "1   About This Game  PLAYERUNKNOWN'S BATTLEGROUND...   \n",
       "2   About This Game  From original BATTLETECH/Mec...   \n",
       "\n",
       "                                      mature_content  \\\n",
       "0                                                NaN   \n",
       "1   Mature Content Description  The developers de...   \n",
       "2                                                NaN   \n",
       "\n",
       "                                minimum_requirements  \\\n",
       "0  Minimum:,OS:,Windows 7/8.1/10 (64-bit versions...   \n",
       "1  Minimum:,Requires a 64-bit processor and opera...   \n",
       "2  Minimum:,Requires a 64-bit processor and opera...   \n",
       "\n",
       "                            recommended_requirements original_price  \\\n",
       "0  Recommended:,OS:,Windows 7/8.1/10 (64-bit vers...         $19.99   \n",
       "1  Recommended:,Requires a 64-bit processor and o...         $29.99   \n",
       "2  Recommended:,Requires a 64-bit processor and o...         $39.99   \n",
       "\n",
       "  discount_price  \n",
       "0         $14.99  \n",
       "1            NaN  \n",
       "2            NaN  "
      ]
     },
     "execution_count": 30,
     "metadata": {},
     "output_type": "execute_result"
    }
   ],
   "source": [
    "tempdataset = pd.read_csv(\"../data/raw/steam_games.csv\")\n",
    "tempdataset.head(3)"
   ]
  },
  {
   "cell_type": "markdown",
   "metadata": {},
   "source": [
    "### Original price needs to be cleaned up to be of any use as can be seen from the unique filter"
   ]
  },
  {
   "cell_type": "code",
   "execution_count": 31,
   "metadata": {},
   "outputs": [
    {
     "data": {
      "text/plain": [
       "array(['$19.99', '$29.99', '$39.99', '$44.99', 'Free', nan, '$59.99',\n",
       "       '$14.99', '$49.99', 'Free to Play', '1.020', 'Free To Play',\n",
       "       '$9.99', '$12.99', '$57.91', '$7.99', '$6.99', '$24.99',\n",
       "       'Demo Middle-earth™: Shadow of War™', 'Play for Free!', '$13.99',\n",
       "       '$59.98', '$69.99', '$76.95', '$84.97', '$58.89', '$8.99',\n",
       "       '$75.95', '$34.99', '$151.89', '$4.99', '$84.93', '$86.92',\n",
       "       '$20.00', '$15.99', '$9.98',\n",
       "       'Shadow of the Tomb Raider Free Trial', '$5.99', '$11.99',\n",
       "       '$32.98', '$21.98',\n",
       "       'FINAL FANTASY XV WINDOWS EDITION PLAYABLE DEMO', '$28.00', 'UNO',\n",
       "       '$79.99', '$59.95', '$3.99', '$30.00', '$17.99', '$57.98',\n",
       "       '$84.98', '$229.48', '$269.69', '$29.98', '$31.99', '$16.99',\n",
       "       '$52.98', '$39.98', '$41.98', '$1.99', '$99.99', '$2.99', '$10.99',\n",
       "       '$264.82', '$20.99', 'Demo', 'CrossCode Demo', '$88.94', '$149.99',\n",
       "       '$36.99', '$18.99', '$19.98', '$89.99', '$25.99', '$116.93',\n",
       "       'EmergeNYC Demo', '$37.99', '$67.96', 'SpeedRunners Party Mode',\n",
       "       '$399.00', 'Learn to Play Edition', 'Soundpad Demo', '$34.97',\n",
       "       'Try the complete game for one hour for free:', '$45.97',\n",
       "       '$105.72', 'LudoNarraCon demo', '$16.66', '$45.96', '$19.95',\n",
       "       '$119.98',\n",
       "       'Note: Your saved progress will transfer to the full game, if purchased.',\n",
       "       '$0.99', '$12.00', '$116.91', '$598.00', '$15.00', '$54.99',\n",
       "       'Home Sweet Home Demo', 'The Black Watchmen Demo', 'Play Demo!',\n",
       "       'Cat Quest Demo', '$79.95', '$21.99', 'Panoptic Demo', '$49.96',\n",
       "       'LudoNarraCon Demo', 'Try our free demo!', '$23.99', '$70.94',\n",
       "       'Play demo for free', 'Worbital: Online Demo', '$33.96', '$8.88',\n",
       "       'Dungeon Siege III Demo', '$109.93', 'The Crew Trial', '$61.96',\n",
       "       '$39.96', 'New Retro Arcade: Neon (Tech Demo)', '$6.60', '$71.93',\n",
       "       '$75.91', '$7.49', 'Castlevania: Lords of Shadow 2 Demo',\n",
       "       'Build and test ships in sandbox. All saved designs transfer to the full version.',\n",
       "       '$44.98', '$21.09', '$15.98', '$2.49', '$43.97', '$44.97',\n",
       "       '$23.97', 'Rodina Demo', '$28.90', 'Free Demo', '$82.93',\n",
       "       'Garrison: Archangel Free Demo', 'Realpolitiks Demo', '$109.96',\n",
       "       '$64.94', '$44.96', '$9.69', 'Salt Demo', '$57.97',\n",
       "       'Sunrider Academy Demo', '$5.49', '$26.99', '$501.87',\n",
       "       'Unbox Demo', '$3.49',\n",
       "       '\"Better than a demo!\" 2D Paintball - Online | Full F2P Multiplayer!',\n",
       "       '$24.98', '$54.97', '$59.96', '$22.97', '🆓 Free test drives! 🈚',\n",
       "       '$54.89', '$13.98', '$289.88', '$3.97', 'Install Demo',\n",
       "       'Hunting Simulator Demo', '$39.97', '$104.91', '$8.97',\n",
       "       'Geneshift Free Edition', '$14.95', '$55.92', '$54.98',\n",
       "       'The Textorcist: Demo', '$60.93', '$14.94', '$130.92', '$41.94',\n",
       "       '$65.93', 'Try it NOW!', '$65.78', '$39.95', '$16.96', '$107.87',\n",
       "       '$28.98', '$25.98', '$89.95', '$8.91', '$11.96', '$5.65', '$17.95',\n",
       "       '$9.95', 'Experience Quasar Spectrum OS for Free', '$475.60',\n",
       "       '$80.81', '$1.98', '$31.94', 'Super X Chess Demo', '$27.88',\n",
       "       '$36.87', 'Jumps Demo', '$31.96', 'Hello Charlotte EP1', '$13.86',\n",
       "       '$15.84', '$14.85', '$48.55', '$165.97', '$34.93', '$59.92',\n",
       "       '$14.98', 'Dont Knock Twice VR Demo', '$20.97',\n",
       "       'Kaiju Big Battel Fighto Fantasy Demo', '$30.97', '$54.93',\n",
       "       '$169.65', '$172.67', '$9.97', '$47.86', '$164.73',\n",
       "       'Cuboid Keeper Demo', '$41.92', '$12.94', '$86.56', '$1.49',\n",
       "       'Play WARMACHINE: Tactics Demo', '$14.97', '$259.54', '$7.96',\n",
       "       '$10.92', 'SoulHunt Demo', '$2.98', '$17.97', '$70.84', '$2.97',\n",
       "       '$15.92', 'Walkerman Prologue', '$64.89', '$5.98', '$5.29',\n",
       "       '$18.91', '$63.86', '$10.96', '$24.92', '$34.96', '$41.99',\n",
       "       '$97.86', '$124.87', '$75.93', '$24.77', '$1.87', '$111.65',\n",
       "       '$14.96', '$67.90', '$15.95', '$17.47', 'Winds Of Trade Demo',\n",
       "       '$7.98', 'DEMO', '$25.91', '$29.97', '$15.93', '$24.93', '$514.39',\n",
       "       '$3.98', '$9.90', '$74.99', '$88.87', 'Free Movie', 'eden* Demo',\n",
       "       '$12.49', '$49.90', '$15.97', '$43.90', '$0.50', '$12.87',\n",
       "       '$64.87', 'Download demo', '$56.86', '$36.73', '$32.86', '$61.68',\n",
       "       '$18.94', '$3.96', '$624.74', '$120.87', '$5.96', '$62.58',\n",
       "       '$110.61', '$43.91', \"Let's Rock\", '$19.97', '$21.96', '$24.96',\n",
       "       'Third-party', '$6.98', 'The Norwood Suite Demo',\n",
       "       '灰烬天国 UnconqueredCastle', '$19.96', '$69.97', '$31.95', '$89.90',\n",
       "       '$9.96', 'Try Demo', '$6.49', 'Try the demo', '$139.83',\n",
       "       'Play the Demo', '$19.93', '$453.42', 'Protonwar Demo', '$49.00',\n",
       "       '$5.97', '$69.95', 'Try the free demo:', '$19.49',\n",
       "       'A Case of Distrust Demo', 'Free Mod', '$144.80',\n",
       "       'Just Get Through Demo', '$174.95', '$51.98',\n",
       "       \"A Bastard's Tale Demo\", 'Download Free Guest Edition', '$74.76',\n",
       "       'Demo version', '$64.99', '$37.96', '试玩版', '$139.99',\n",
       "       'Download Demo', '$13.97', '$4.98', '$13.96', '$149.98',\n",
       "       'Free Demo ( ͡~ ͜ʖ ͡°)', '$1.33', '$46.90', '$51.88', '$28.97',\n",
       "       'Kokorogawari Demo', '$82.84', '$13.93', '$190.69', '$9.50',\n",
       "       '$58.90', '$30.73', 'Wisgr Demo', '$44.59', '$4.95', '$96.28',\n",
       "       '$18.89', '$2.00', '$39.00', '$389.98', '$24.95', 'Draid Demo',\n",
       "       '$3.00', '$12.92', '$1.45', '$44.91', '$61.90', '$4.49', '$15.96',\n",
       "       '$30.84', '$1.50', '$16.88', '$5.56', 'Sanguine Sanctum Demo',\n",
       "       '$10.89', '$289.99', '$1.69', '$595.99',\n",
       "       '3DCoat Modding Tool Demo', '$49.93', '$4.20', '$76.67', '$5.00',\n",
       "       '$17.90', '$10.00', 'Duped: The Theseus Demo', '$36.91', '$8.98',\n",
       "       '$199.98', '$133.81', '$54.95', '$3.59', '$1.29', '$1.25',\n",
       "       '$38.91', '$59.94', '$199.99', '$159.98', '$299.99', '$147.88',\n",
       "       'Planets Under Attack Demo', '$124.99',\n",
       "       'Rayon Riddles - Rise of the Goblin King Demo',\n",
       "       'Unholy Heights Trial Version', '$109.99', 'Download Demo !',\n",
       "       'Sym Demo', '$264.90', 'ROTii Demo', '$82.95', '$179.00',\n",
       "       '$129.99', 'FREE EDITION', '$12.97', '$29.94', '$66.93',\n",
       "       'Try the Free Version', 'ViSP Demo', 'Try before you buy!',\n",
       "       '$18.98', 'LABEL', '$21.85', 'Sceal Demo', '$53.90', '$21.94',\n",
       "       '$7.00', 'Woven the Demo', '$27.99', '$399.99',\n",
       "       'Get a full, 14 day trial version', '$1.39', '$5.94',\n",
       "       'Bootleg Systems Demo', '$85.90', '$29.91', '$22.99', '$106.91',\n",
       "       'Gerty Demo', '$169.98', '$189.00', '$40.00', 'Questro', '$119.99',\n",
       "       'Give it a swing!', '$6.00', 'Gorescript Demo', 'Locomotion Demo',\n",
       "       'FREE DOWNLOAD', 'CHOP Demo', '$90.78', 'Penarium Demo',\n",
       "       'Spaceman Sparkles 3 Demo',\n",
       "       'Chuusotsu - 1st Graduation: Time After Time English Demo',\n",
       "       'Visual Novel, Free', 'SoulSet Demo', 'RLR Demo', '$2.30',\n",
       "       'Chapter I: The Cross-bearing Man', '$304.89', '$199.90',\n",
       "       '$131.40', 'Install', 'Playable demo of Upwards, Lonely Robot',\n",
       "       '$27.49', '$33.99', 'Horizon Shift Demo', '$2.80', '$1.59',\n",
       "       'YumeUtsutsu Re:Master demo', '650560', 'Try CUR3D Maker Edition',\n",
       "       '$26.95', '$203.95', '$51.62', '$47.99',\n",
       "       'Escape Legacy - Short Demo', '$6.94', 'Heroes of Legionwood Demo',\n",
       "       '$189.94', '$66.95', \"The Last Dream: Developer's Edition Demo\",\n",
       "       '$122.90', '$78.91',\n",
       "       'Put on your Top Hat, twiddle your tache and get the Woolley Mountain Demo now!',\n",
       "       '$5.95', '$8.00', 'Vector Wave Demo', 'A Golden Wake - Demo',\n",
       "       'Circuit Breakers Demo', 'AccuRC 2 Limited Demo', 'Inked - Demo',\n",
       "       '$59.88', 'Play Now', '$9.77', '$64.88', '$16.97', '$10.97',\n",
       "       '$528.99', '$109.98', '$3.14', '$10.98', '$30.98', '$22.98',\n",
       "       '$50.85', '$10.93', '$10.94', '$67.86', '$6.96', '$1.88',\n",
       "       '$119.75', '$408.99', 'Koliseum Soccer VR Demo', '$59.97',\n",
       "       '$13.95', '$11.92', '$13.37', '$42.99', 'Demo-version',\n",
       "       'Infinium Strike Demo', '$29.90', '$478.99', '$6.93',\n",
       "       'Try it now!', 'MilitAnt Demo', '$6.66', '$1.00', '$12.95',\n",
       "       'Catyph Demo', '$458.99', \"Hunter's Legacy Demo\", 'Qubicle Demo',\n",
       "       '$0.98', '$0.90', 'Try the Demo!', \"Funtoon's World (Demo)\",\n",
       "       'Fluffy Demo', '$60.91', '$3.33', 'Crying is not Enough: Demo',\n",
       "       '$59.85', '$17.98', 'The Apartment Demo', '$19.69', 'Statues Demo',\n",
       "       '$7.92', '$199.00', 'Play the free demo!', '$102.93', '$149.00',\n",
       "       'Defenders of Time Demo', '$229.98', 'Play Demo', '$35.92',\n",
       "       'Play now for free', '$39.90', '$139.92',\n",
       "       'Arcane Raise - Aurora Novus', 'Towns Demo',\n",
       "       'Confederate Express Demo', 'Pit of Evil Demo', 'Try Demo!',\n",
       "       '$20.89', '$29.35', 'Wild Arena Demo', 'Ramayana Demo',\n",
       "       'Justice: Fallen Clan Demo', 'SpaceSys Demo', 'Pitchfork Demo',\n",
       "       'Handpass VR Demo', '$1.95', '$38.85',\n",
       "       'dungeon,builder,simulation,construct,build,simulator,TD,地城,地牢,地下城,經營,模擬,建造,2D,indie,獨立,模拟,经营,策略,独立,塔防,管理,開放世界',\n",
       "       'Horse Racing 2016 (Demo)', '$79.98', 'Hit The Hive DEMO',\n",
       "       'Dual Gear Pre-Alpha Demo', 'Bug Battle Demo', '$28.91',\n",
       "       'Cursed Mansion Demo', 'Guardians Of The Past Demo', '$10.91',\n",
       "       'Fortune & Gloria Demo', '$37.72', '$33.76',\n",
       "       'Tank Brawl 2 Survival Mode', 'Codename Nemesis Demo', '$4.29',\n",
       "       '$179.99', 'Free Prologue', '$6.97', 'Download FREE Demo', 'game',\n",
       "       'Star Shift - Demo', 'Human Pinball: Iceage Demo', 'Free Version',\n",
       "       'Playable Demo', '免费试玩！', 'Demo - Lems', 'Shipbreaker Demo',\n",
       "       'Download Demo (Language: Korean)', 'FREE ALPHA DEMO!',\n",
       "       'Play the demo!', 'Angry Ball VR Demo', 'Gravity Heroes Demo',\n",
       "       '$2.50', 'Demo Aussie Battler Tanks', '免费体验！', 'PROLOGUE',\n",
       "       'Space Battlecruiser Demo', 'Copperbell Demo', 'Free demo',\n",
       "       'Protoype Demo', 'פיפוש - האודישן', 'Road Rage Royale Demo',\n",
       "       'Not convinced enough? Play Deadsiege demo',\n",
       "       'The Sorrowvirus: A Faceless Short Story', 'Enigma Prison Beta',\n",
       "       'Black Hole Hazard Demo', 'Funklift Demo',\n",
       "       'Galactic Fighters Demo', \"Pop Island - Let's Code  ( intuition )\",\n",
       "       '$45.00', 'Try it out please', 'Free DEMO!', 'Four Realms Demo',\n",
       "       'Quest of Souls Demo', 'Free Pre-Alpha', 'Try the free demo!',\n",
       "       'Failed State Demo Version', 'Soulblight Demo', 'Patterna Demo',\n",
       "       '$17.46', 'Open Beta', '$71.70', 'Download PC Demo',\n",
       "       'Please try out the demo before purchasing.',\n",
       "       'INTERSTELLAR PRIME Pre-Alpha 0.1 Game Engine Demo',\n",
       "       'Demo Version', '$499.99', '$249.99', '\"Location Test\" Demo',\n",
       "       'Faulty Apprentice Demo', 'Super Dungeon Boy: Mega Fire Demo',\n",
       "       '$24.97', 'Amiss 13: the Curse Demo', 'FREE DEMO',\n",
       "       'PLAY WITH ME Demo', 'Laika 2.0 Demo', '$27.98', 'Try RJ free!',\n",
       "       \"Gaia's Melody: Echoed Melodies Demo\", 'Storms of Shambhala Demo',\n",
       "       '$1.20', '730640', 'Hailstorm Demo', '$100.00', 'Coffee Talk Demo',\n",
       "       'Dyadic Demo', '$995.00', 'Play Demo for Free',\n",
       "       'Windows Prototype', 'Kickstarter Demo', 'Shadow of the Mask DEMO',\n",
       "       'Play Free Demo', \"Love, Money, Rock'n'Roll Demo\",\n",
       "       'UnsacrificeVRDemo', 'Orbs Demo', 'Play Rage in Peace Demo',\n",
       "       'TRY THE FREE DEMO!', 'Play', 'Download the demo here!', '$3.50',\n",
       "       'Soulfire Beta', 'Up to 30 minutes of gameplay!', '$3.25', '$4.79',\n",
       "       'Pre-Alpha Demo', 'Eagle Island Demo',\n",
       "       'DCL - The Game (Early Demo)', '$499.00', 'Sky Racket Demo',\n",
       "       '$0.95', 'Play the Demo!', '$749.00', '$999.00', 'Now Available',\n",
       "       'Enjoy the Demo today!', 'Arcade Spirits Demo', '$1.09'],\n",
       "      dtype=object)"
      ]
     },
     "execution_count": 31,
     "metadata": {},
     "output_type": "execute_result"
    }
   ],
   "source": [
    "tempdataset['original_price'].unique()"
   ]
  },
  {
   "cell_type": "markdown",
   "metadata": {},
   "source": [
    "### From the describe function here we can see that this dataset really needs to be cleaned and wrangled to be of any use"
   ]
  },
  {
   "cell_type": "code",
   "execution_count": 32,
   "metadata": {},
   "outputs": [
    {
     "data": {
      "text/html": [
       "<div>\n",
       "<style scoped>\n",
       "    .dataframe tbody tr th:only-of-type {\n",
       "        vertical-align: middle;\n",
       "    }\n",
       "\n",
       "    .dataframe tbody tr th {\n",
       "        vertical-align: top;\n",
       "    }\n",
       "\n",
       "    .dataframe thead th {\n",
       "        text-align: right;\n",
       "    }\n",
       "</style>\n",
       "<table border=\"1\" class=\"dataframe\">\n",
       "  <thead>\n",
       "    <tr style=\"text-align: right;\">\n",
       "      <th></th>\n",
       "      <th>achievements</th>\n",
       "    </tr>\n",
       "  </thead>\n",
       "  <tbody>\n",
       "    <tr>\n",
       "      <th>count</th>\n",
       "      <td>12194.000000</td>\n",
       "    </tr>\n",
       "    <tr>\n",
       "      <th>mean</th>\n",
       "      <td>77.237494</td>\n",
       "    </tr>\n",
       "    <tr>\n",
       "      <th>std</th>\n",
       "      <td>448.501848</td>\n",
       "    </tr>\n",
       "    <tr>\n",
       "      <th>min</th>\n",
       "      <td>1.000000</td>\n",
       "    </tr>\n",
       "    <tr>\n",
       "      <th>25%</th>\n",
       "      <td>12.000000</td>\n",
       "    </tr>\n",
       "    <tr>\n",
       "      <th>50%</th>\n",
       "      <td>21.000000</td>\n",
       "    </tr>\n",
       "    <tr>\n",
       "      <th>75%</th>\n",
       "      <td>38.000000</td>\n",
       "    </tr>\n",
       "    <tr>\n",
       "      <th>max</th>\n",
       "      <td>9821.000000</td>\n",
       "    </tr>\n",
       "  </tbody>\n",
       "</table>\n",
       "</div>"
      ],
      "text/plain": [
       "       achievements\n",
       "count  12194.000000\n",
       "mean      77.237494\n",
       "std      448.501848\n",
       "min        1.000000\n",
       "25%       12.000000\n",
       "50%       21.000000\n",
       "75%       38.000000\n",
       "max     9821.000000"
      ]
     },
     "execution_count": 32,
     "metadata": {},
     "output_type": "execute_result"
    }
   ],
   "source": [
    "tempdataset.describe()"
   ]
  },
  {
   "cell_type": "markdown",
   "metadata": {},
   "source": [
    "### Conclusion of EDA\n",
    "- The columns ['url', 'game_description', 'minimum_requirements', 'recommended_requirements', 'desc_snippet', 'mature_content', 'types', 'discount_price'] can be removed as they are either irrelevant to the analysis or contain too much text to be useful\n",
    "- Recent reviews and All reviews need to be wrangled to get the precentage of positive reviews\n",
    "- Publisher, popular tags, languages, and game details can be useful if separated out and wrangled. I let Adrian handle doing that part since he was more focused on genre.\n",
    "- Price column needs to be cleaned up to be of any use. Free price needs to be set to 0.\n",
    "- Bundles need to be removed from the dataset. They aren't any particular game."
   ]
  },
  {
   "cell_type": "markdown",
   "metadata": {},
   "source": [
    "# Data Pipeline"
   ]
  },
  {
   "cell_type": "markdown",
   "metadata": {},
   "source": [
    "### Pipeline start\n",
    "- I removed useless columns, got rid of \"bundle\" entries, and converted review text into numeric values\n",
    "- I also removed null values and changed free values to 0\n",
    "- Also cleaned up percentage symbols and other characters that interferes with Seaborn graphs"
   ]
  },
  {
   "cell_type": "code",
   "execution_count": 33,
   "metadata": {},
   "outputs": [
    {
     "name": "stderr",
     "output_type": "stream",
     "text": [
      "c:\\Users\\Zecr\\Offline Storage\\UBC 2022-2023 Code Files\\301\\project-group15\\notebooks\\project_functions1.py:9: UserWarning: Boolean Series key will be reindexed to match DataFrame index.\n",
      "  dataset\n"
     ]
    },
    {
     "data": {
      "text/html": [
       "<div>\n",
       "<style scoped>\n",
       "    .dataframe tbody tr th:only-of-type {\n",
       "        vertical-align: middle;\n",
       "    }\n",
       "\n",
       "    .dataframe tbody tr th {\n",
       "        vertical-align: top;\n",
       "    }\n",
       "\n",
       "    .dataframe thead th {\n",
       "        text-align: right;\n",
       "    }\n",
       "</style>\n",
       "<table border=\"1\" class=\"dataframe\">\n",
       "  <thead>\n",
       "    <tr style=\"text-align: right;\">\n",
       "      <th></th>\n",
       "      <th>name</th>\n",
       "      <th>recent_reviews</th>\n",
       "      <th>all_reviews</th>\n",
       "      <th>release_date</th>\n",
       "      <th>developer</th>\n",
       "      <th>publisher</th>\n",
       "      <th>popular_tags</th>\n",
       "      <th>game_details</th>\n",
       "      <th>languages</th>\n",
       "      <th>achievements</th>\n",
       "      <th>genre</th>\n",
       "      <th>original_price</th>\n",
       "    </tr>\n",
       "  </thead>\n",
       "  <tbody>\n",
       "    <tr>\n",
       "      <th>0</th>\n",
       "      <td>DOOM</td>\n",
       "      <td>89</td>\n",
       "      <td>92</td>\n",
       "      <td>May 12, 2016</td>\n",
       "      <td>id Software</td>\n",
       "      <td>Bethesda Softworks,Bethesda Softworks</td>\n",
       "      <td>FPS,Gore,Action,Demons,Shooter,First-Person,Gr...</td>\n",
       "      <td>Single-player,Multi-player,Co-op,Steam Achieve...</td>\n",
       "      <td>English,French,Italian,German,Spanish - Spain,...</td>\n",
       "      <td>54.0</td>\n",
       "      <td>Action</td>\n",
       "      <td>19.99</td>\n",
       "    </tr>\n",
       "    <tr>\n",
       "      <th>1</th>\n",
       "      <td>PLAYERUNKNOWN'S BATTLEGROUNDS</td>\n",
       "      <td>49</td>\n",
       "      <td>49</td>\n",
       "      <td>Dec 21, 2017</td>\n",
       "      <td>PUBG Corporation</td>\n",
       "      <td>PUBG Corporation,PUBG Corporation</td>\n",
       "      <td>Survival,Shooter,Multiplayer,Battle Royale,PvP...</td>\n",
       "      <td>Multi-player,Online Multi-Player,Stats</td>\n",
       "      <td>English,Korean,Simplified Chinese,French,Germa...</td>\n",
       "      <td>37.0</td>\n",
       "      <td>Action,Adventure,Massively Multiplayer</td>\n",
       "      <td>29.99</td>\n",
       "    </tr>\n",
       "    <tr>\n",
       "      <th>2</th>\n",
       "      <td>BATTLETECH</td>\n",
       "      <td>54</td>\n",
       "      <td>71</td>\n",
       "      <td>Apr 24, 2018</td>\n",
       "      <td>Harebrained Schemes</td>\n",
       "      <td>Paradox Interactive,Paradox Interactive</td>\n",
       "      <td>Mechs,Strategy,Turn-Based,Turn-Based Tactics,S...</td>\n",
       "      <td>Single-player,Multi-player,Online Multi-Player...</td>\n",
       "      <td>English,French,German,Russian</td>\n",
       "      <td>128.0</td>\n",
       "      <td>Action,Adventure,Strategy</td>\n",
       "      <td>39.99</td>\n",
       "    </tr>\n",
       "    <tr>\n",
       "      <th>3</th>\n",
       "      <td>DayZ</td>\n",
       "      <td>57</td>\n",
       "      <td>61</td>\n",
       "      <td>Dec 13, 2018</td>\n",
       "      <td>Bohemia Interactive</td>\n",
       "      <td>Bohemia Interactive,Bohemia Interactive</td>\n",
       "      <td>Survival,Zombies,Open World,Multiplayer,PvP,Ma...</td>\n",
       "      <td>Multi-player,Online Multi-Player,Steam Worksho...</td>\n",
       "      <td>English,French,Italian,German,Spanish - Spain,...</td>\n",
       "      <td>NaN</td>\n",
       "      <td>Action,Adventure,Massively Multiplayer</td>\n",
       "      <td>44.99</td>\n",
       "    </tr>\n",
       "    <tr>\n",
       "      <th>4</th>\n",
       "      <td>EVE Online</td>\n",
       "      <td>54</td>\n",
       "      <td>74</td>\n",
       "      <td>May 6, 2003</td>\n",
       "      <td>CCP</td>\n",
       "      <td>CCP,CCP</td>\n",
       "      <td>Space,Massively Multiplayer,Sci-fi,Sandbox,MMO...</td>\n",
       "      <td>Multi-player,Online Multi-Player,MMO,Co-op,Onl...</td>\n",
       "      <td>English,German,Russian,French</td>\n",
       "      <td>NaN</td>\n",
       "      <td>Action,Free to Play,Massively Multiplayer,RPG,...</td>\n",
       "      <td>0.00</td>\n",
       "    </tr>\n",
       "  </tbody>\n",
       "</table>\n",
       "</div>"
      ],
      "text/plain": [
       "                            name  recent_reviews  all_reviews  release_date  \\\n",
       "0                           DOOM              89           92  May 12, 2016   \n",
       "1  PLAYERUNKNOWN'S BATTLEGROUNDS              49           49  Dec 21, 2017   \n",
       "2                     BATTLETECH              54           71  Apr 24, 2018   \n",
       "3                           DayZ              57           61  Dec 13, 2018   \n",
       "4                     EVE Online              54           74   May 6, 2003   \n",
       "\n",
       "             developer                                publisher  \\\n",
       "0          id Software    Bethesda Softworks,Bethesda Softworks   \n",
       "1     PUBG Corporation        PUBG Corporation,PUBG Corporation   \n",
       "2  Harebrained Schemes  Paradox Interactive,Paradox Interactive   \n",
       "3  Bohemia Interactive  Bohemia Interactive,Bohemia Interactive   \n",
       "4                  CCP                                  CCP,CCP   \n",
       "\n",
       "                                        popular_tags  \\\n",
       "0  FPS,Gore,Action,Demons,Shooter,First-Person,Gr...   \n",
       "1  Survival,Shooter,Multiplayer,Battle Royale,PvP...   \n",
       "2  Mechs,Strategy,Turn-Based,Turn-Based Tactics,S...   \n",
       "3  Survival,Zombies,Open World,Multiplayer,PvP,Ma...   \n",
       "4  Space,Massively Multiplayer,Sci-fi,Sandbox,MMO...   \n",
       "\n",
       "                                        game_details  \\\n",
       "0  Single-player,Multi-player,Co-op,Steam Achieve...   \n",
       "1             Multi-player,Online Multi-Player,Stats   \n",
       "2  Single-player,Multi-player,Online Multi-Player...   \n",
       "3  Multi-player,Online Multi-Player,Steam Worksho...   \n",
       "4  Multi-player,Online Multi-Player,MMO,Co-op,Onl...   \n",
       "\n",
       "                                           languages  achievements  \\\n",
       "0  English,French,Italian,German,Spanish - Spain,...          54.0   \n",
       "1  English,Korean,Simplified Chinese,French,Germa...          37.0   \n",
       "2                      English,French,German,Russian         128.0   \n",
       "3  English,French,Italian,German,Spanish - Spain,...           NaN   \n",
       "4                      English,German,Russian,French           NaN   \n",
       "\n",
       "                                               genre  original_price  \n",
       "0                                             Action           19.99  \n",
       "1             Action,Adventure,Massively Multiplayer           29.99  \n",
       "2                          Action,Adventure,Strategy           39.99  \n",
       "3             Action,Adventure,Massively Multiplayer           44.99  \n",
       "4  Action,Free to Play,Massively Multiplayer,RPG,...            0.00  "
      ]
     },
     "execution_count": 33,
     "metadata": {},
     "output_type": "execute_result"
    }
   ],
   "source": [
    "import re\n",
    "import project_functions1 as pf\n",
    "\n",
    "# dataset = (\n",
    "#     tempdataset\n",
    "#     [tempdataset['types'] != 'bundle']\n",
    "#     .drop(columns = ['url', 'game_description', 'minimum_requirements', 'recommended_requirements', 'desc_snippet', 'mature_content', 'types', 'discount_price'])\n",
    "#     [tempdataset['all_reviews'].notna() & tempdataset['all_reviews'].str.contains('%')]\n",
    "#     .assign(all_reviews = lambda x: x['all_reviews'].apply(lambda y: int(re.findall(\"(\\d{1,3}%)\", y)[0].replace('%', ''))))\n",
    "#     [tempdataset['recent_reviews'].notna() & tempdataset['recent_reviews'].str.contains('%')]\n",
    "#     .assign(recent_reviews = lambda x: x['recent_reviews'].apply(lambda y: int(re.findall(\"(\\d{1,3}%)\", y)[0].replace('%', ''))))\n",
    "#     [tempdataset['original_price'].notna() & (tempdataset['original_price'].str.contains('\\$') | tempdataset['original_price'].str.contains('free', case=False))]\n",
    "#     .assign(original_price = lambda x: x['original_price'].apply(lambda y: 0 if 'free' in y.lower() else float(y.replace('$', ''))))\n",
    "# )\n",
    "\n",
    "dataset = pf.dataloadnclean(\"../data/raw/steam_games.csv\")\n",
    "\n",
    "dataset.head()"
   ]
  },
  {
   "cell_type": "code",
   "execution_count": 34,
   "metadata": {},
   "outputs": [
    {
     "data": {
      "text/plain": [
       "array(['Single-player,Multi-player,Co-op,Steam Achievements,Steam Trading Cards,Partial Controller Support,Steam Cloud',\n",
       "       'Multi-player,Online Multi-Player,Stats',\n",
       "       'Single-player,Multi-player,Online Multi-Player,Cross-Platform Multiplayer,Steam Achievements,Steam Trading Cards,Steam Cloud',\n",
       "       ..., 'Downloadable Content',\n",
       "       'Single-player,Steam Achievements,Full controller support,Steam Cloud,Stats,Steam Leaderboards,Includes level editor',\n",
       "       'Single-player,Online Multi-Player,Shared/Split Screen,Steam Achievements,Full controller support,Steam Trading Cards'],\n",
       "      dtype=object)"
      ]
     },
     "execution_count": 34,
     "metadata": {},
     "output_type": "execute_result"
    }
   ],
   "source": [
    "dataset['game_details'].unique()"
   ]
  },
  {
   "cell_type": "markdown",
   "metadata": {},
   "source": [
    "### The data is now much more usable"
   ]
  },
  {
   "cell_type": "code",
   "execution_count": 35,
   "metadata": {},
   "outputs": [
    {
     "data": {
      "text/html": [
       "<div>\n",
       "<style scoped>\n",
       "    .dataframe tbody tr th:only-of-type {\n",
       "        vertical-align: middle;\n",
       "    }\n",
       "\n",
       "    .dataframe tbody tr th {\n",
       "        vertical-align: top;\n",
       "    }\n",
       "\n",
       "    .dataframe thead th {\n",
       "        text-align: right;\n",
       "    }\n",
       "</style>\n",
       "<table border=\"1\" class=\"dataframe\">\n",
       "  <thead>\n",
       "    <tr style=\"text-align: right;\">\n",
       "      <th></th>\n",
       "      <th>recent_reviews</th>\n",
       "      <th>all_reviews</th>\n",
       "      <th>achievements</th>\n",
       "      <th>original_price</th>\n",
       "    </tr>\n",
       "  </thead>\n",
       "  <tbody>\n",
       "    <tr>\n",
       "      <th>count</th>\n",
       "      <td>2638.000000</td>\n",
       "      <td>2638.000000</td>\n",
       "      <td>1779.000000</td>\n",
       "      <td>2638.000000</td>\n",
       "    </tr>\n",
       "    <tr>\n",
       "      <th>mean</th>\n",
       "      <td>77.420773</td>\n",
       "      <td>81.037908</td>\n",
       "      <td>79.600899</td>\n",
       "      <td>17.194272</td>\n",
       "    </tr>\n",
       "    <tr>\n",
       "      <th>std</th>\n",
       "      <td>17.067878</td>\n",
       "      <td>13.453444</td>\n",
       "      <td>305.988312</td>\n",
       "      <td>24.431361</td>\n",
       "    </tr>\n",
       "    <tr>\n",
       "      <th>min</th>\n",
       "      <td>0.000000</td>\n",
       "      <td>12.000000</td>\n",
       "      <td>1.000000</td>\n",
       "      <td>0.000000</td>\n",
       "    </tr>\n",
       "    <tr>\n",
       "      <th>25%</th>\n",
       "      <td>68.000000</td>\n",
       "      <td>74.000000</td>\n",
       "      <td>21.000000</td>\n",
       "      <td>3.990000</td>\n",
       "    </tr>\n",
       "    <tr>\n",
       "      <th>50%</th>\n",
       "      <td>81.000000</td>\n",
       "      <td>84.000000</td>\n",
       "      <td>37.000000</td>\n",
       "      <td>14.990000</td>\n",
       "    </tr>\n",
       "    <tr>\n",
       "      <th>75%</th>\n",
       "      <td>90.000000</td>\n",
       "      <td>91.000000</td>\n",
       "      <td>59.000000</td>\n",
       "      <td>19.990000</td>\n",
       "    </tr>\n",
       "    <tr>\n",
       "      <th>max</th>\n",
       "      <td>100.000000</td>\n",
       "      <td>100.000000</td>\n",
       "      <td>5000.000000</td>\n",
       "      <td>598.000000</td>\n",
       "    </tr>\n",
       "  </tbody>\n",
       "</table>\n",
       "</div>"
      ],
      "text/plain": [
       "       recent_reviews  all_reviews  achievements  original_price\n",
       "count     2638.000000  2638.000000   1779.000000     2638.000000\n",
       "mean        77.420773    81.037908     79.600899       17.194272\n",
       "std         17.067878    13.453444    305.988312       24.431361\n",
       "min          0.000000    12.000000      1.000000        0.000000\n",
       "25%         68.000000    74.000000     21.000000        3.990000\n",
       "50%         81.000000    84.000000     37.000000       14.990000\n",
       "75%         90.000000    91.000000     59.000000       19.990000\n",
       "max        100.000000   100.000000   5000.000000      598.000000"
      ]
     },
     "execution_count": 35,
     "metadata": {},
     "output_type": "execute_result"
    }
   ],
   "source": [
    "dataset.describe()"
   ]
  },
  {
   "cell_type": "markdown",
   "metadata": {},
   "source": [
    "# Analysis"
   ]
  },
  {
   "cell_type": "markdown",
   "metadata": {},
   "source": [
    "### Games developed over the years\n",
    "- There seems to be an exponential trend for the number of games released year over year. Which matches with technological progress. Since the data was collected in 2019, I removed that column as not all games from that year have been released and added to the database yet."
   ]
  },
  {
   "cell_type": "code",
   "execution_count": 40,
   "metadata": {},
   "outputs": [
    {
     "data": {
      "text/plain": [
       "<seaborn.axisgrid.FacetGrid at 0x1af020de280>"
      ]
     },
     "execution_count": 40,
     "metadata": {},
     "output_type": "execute_result"
    },
    {
     "data": {
      "image/png": "[encoded data removed]",
      "text/plain": [
       "<Figure size 500x500 with 1 Axes>"
      ]
     },
     "metadata": {},
     "output_type": "display_data"
    }
   ],
   "source": [
    "dataset['Year'] = pd.to_numeric(dataset['release_date'].str[-4:], errors='coerce')\n",
    "dataset = dataset[dataset['Year'] <= 2018]\n",
    "sns.catplot(x=\"Year\", kind=\"count\", data=dataset).set(title='Number of games released each year').set_xticklabels(rotation=90)"
   ]
  },
  {
   "cell_type": "markdown",
   "metadata": {},
   "source": [
    "### Online multiplayer\n",
    "- These next graphs I want to see when games started implementing online multiplayer\n",
    "- From this graph, we can see that the percentage of games that implemented online multiplayer grew steadly year after year starting from around 2000 but really picking up from around 2012.\n",
    "##### Code wrangling and clean notes\n",
    "- is_multiplayer column simply sees if the game_details cell contains the text 'multi'\n",
    "- is_online column simply sees if the game_details cell contains the text 'online'\n",
    "- is_multiplayer and is_online are then converted to 1 or 0\n",
    "- The two columns are then combined using AND into a new column and then counted to get the total number of games that implemented multiplayer"
   ]
  },
  {
   "cell_type": "code",
   "execution_count": 41,
   "metadata": {},
   "outputs": [
    {
     "name": "stdout",
     "output_type": "stream",
     "text": [
      "AxesSubplot(0.125,0.11;0.775x0.77)\n"
     ]
    },
    {
     "data": {
      "image/png": "[encoded data removed]",
      "text/plain": [
       "<Figure size 640x480 with 1 Axes>"
      ]
     },
     "metadata": {},
     "output_type": "display_data"
    }
   ],
   "source": [
    "dataset['is_multiplayer'] = np.where(dataset['game_details'].str.contains('multi', case=False), True, False)\n",
    "dataset['is_online'] = np.where(dataset['game_details'].str.contains('online', case=False), True, False)\n",
    "dataset['is_online_multiplayer'] = np.where((dataset['is_multiplayer'] == True) & (dataset['is_online'] == True), True, False)\n",
    "\n",
    "graph = sns.countplot(dataset, x=\"Year\", hue=\"is_online_multiplayer\")\n",
    "graph.tick_params(axis='x', rotation=90)\n",
    "graph.set(title='Number of online multiplayer games vs offline games released each year')\n",
    "print(graph)"
   ]
  },
  {
   "cell_type": "markdown",
   "metadata": {},
   "source": [
    "### Price analysis\n",
    "- We can also see that the price of games have gone up over the years. This might be due to inflation or to the massive complexity of modern games that require more money\n",
    "- But there are still many games that are free to play. This is probably due to the fact that many games are now online multiplayer and free to play games can make money through microtransactions"
   ]
  },
  {
   "cell_type": "code",
   "execution_count": 38,
   "metadata": {},
   "outputs": [
    {
     "name": "stderr",
     "output_type": "stream",
     "text": [
      "C:\\Users\\Zecr\\AppData\\Local\\Temp\\ipykernel_2320\\157165265.py:14: FutureWarning: The default value of numeric_only in DataFrameGroupBy.mean is deprecated. In a future version, numeric_only will default to False. Either specify numeric_only or select only columns which should be valid for the function.\n",
      "  ax2.bar(dataset.groupby('Year').mean().index, dataset.groupby('Year').mean()['original_price'], color='b')\n",
      "C:\\Users\\Zecr\\AppData\\Local\\Temp\\ipykernel_2320\\157165265.py:14: FutureWarning: The default value of numeric_only in DataFrameGroupBy.mean is deprecated. In a future version, numeric_only will default to False. Either specify numeric_only or select only columns which should be valid for the function.\n",
      "  ax2.bar(dataset.groupby('Year').mean().index, dataset.groupby('Year').mean()['original_price'], color='b')\n"
     ]
    },
    {
     "data": {
      "image/png": "[encoded data removed]",
      "text/plain": [
       "<Figure size 500x500 with 1 Axes>"
      ]
     },
     "metadata": {},
     "output_type": "display_data"
    },
    {
     "data": {
      "image/png": "[encoded data removed]",
      "text/plain": [
       "<Figure size 640x480 with 2 Axes>"
      ]
     },
     "metadata": {},
     "output_type": "display_data"
    }
   ],
   "source": [
    "# set scale limit to 300 as there are some outliers\n",
    "sns.catplot(y=\"original_price\", x='Year', data=dataset, native_scale=True).set(ylim=(0,300)).set(title=\"Price by Year\")\n",
    "# sns.displot(dataset, x=\"original_price\", y='Year', kind=\"kde\", fill=True).set_xticklabels(rotation=90).set(xlim=(0,100))\n",
    "\n",
    "cpi = pd.read_csv(\"../data/raw/CPI.csv\")\n",
    "cpi = cpi[cpi['Year'] <= 2018]\n",
    "\n",
    "fig, ax1 = plt.subplots()\n",
    "ax2 = ax1.twinx()\n",
    "ax1.plot(cpi['Year'], cpi['CPI'], 'g-')\n",
    "ax1.set_xlabel('Year')\n",
    "ax1.set_ylabel('CPI', color='g')\n",
    "ax1.tick_params('y', colors='g')\n",
    "ax2.bar(dataset.groupby('Year').mean().index, dataset.groupby('Year').mean()['original_price'], color='b')\n",
    "ax2.set_ylim(0, 27)\n",
    "ax1.set_ylim(0, 270)\n",
    "ax2.set_ylabel('Average Price', color='b')\n",
    "ax2.tick_params('y', colors='b')\n",
    "plt.title('Average Price of Games vs CPI')\n",
    "plt.show()"
   ]
  },
  {
   "cell_type": "markdown",
   "metadata": {},
   "source": [
    "### Achievements\n",
    "- We can see from this graph below, more and more games have been implementing achevements when compared to older games.\n",
    "- Though most game only implement a few acheivements rather than a lot."
   ]
  },
  {
   "cell_type": "code",
   "execution_count": 39,
   "metadata": {},
   "outputs": [
    {
     "data": {
      "text/plain": [
       "<seaborn.axisgrid.FacetGrid at 0x1af025e0df0>"
      ]
     },
     "execution_count": 39,
     "metadata": {},
     "output_type": "execute_result"
    },
    {
     "data": {
      "image/png": "[encoded data removed]",
      "text/plain": [
       "<Figure size 500x500 with 1 Axes>"
      ]
     },
     "metadata": {},
     "output_type": "display_data"
    }
   ],
   "source": [
    "sns.displot(y='achievements', x='Year', data=dataset).set(ylim=(0,300)).set(title=\"Achievement implementation over the years\")"
   ]
  },
  {
   "cell_type": "markdown",
   "metadata": {},
   "source": [
    "## Additional Resources Used in Tableau Dashboard\n",
    "CPI data: https://www.rateinflation.com/consumer-price-index/usa-historical-cpi/"
   ]
  }
 ],
 "metadata": {
  "kernelspec": {
   "display_name": "Python 3.9.13 ('base')",
   "language": "python",
   "name": "python3"
  },
  "language_info": {
   "codemirror_mode": {
    "name": "ipython",
    "version": 3
   },
   "file_extension": ".py",
   "mimetype": "text/x-python",
   "name": "python",
   "nbconvert_exporter": "python",
   "pygments_lexer": "ipython3",
   "version": "3.9.13"
  },
  "orig_nbformat": 4,
  "vscode": {
   "interpreter": {
    "hash": "18d2c5ec506502c1ccdcc0892181285f58c3cccb67fc1ab97aada01714b15b9f"
   }
  }
 },
 "nbformat": 4,
 "nbformat_minor": 2
}
