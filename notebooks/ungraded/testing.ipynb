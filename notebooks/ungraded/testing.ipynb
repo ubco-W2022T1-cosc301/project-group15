{
 "cells": [
  {
   "cell_type": "code",
   "execution_count": null,
   "metadata": {},
   "outputs": [],
   "source": [
    "# make a dataeframe\n",
    "import pandas as pd\n",
    "import numpy as np\n",
    "\n",
    "df = pd.DataFrame({'a': [1, 2, 3], 'b': [4, 5, 6]})\n"
   ]
  }
 ],
 "metadata": {
  "kernelspec": {
   "display_name": "Python 3.9.12 ('base')",
   "language": "python",
   "name": "python3"
  },
  "language_info": {
   "name": "python",
   "version": "3.9.12"
  },
  "orig_nbformat": 4,
  "vscode": {
   "interpreter": {
    "hash": "18d2c5ec506502c1ccdcc0892181285f58c3cccb67fc1ab97aada01714b15b9f"
   }
  }
 },
 "nbformat": 4,
 "nbformat_minor": 2
}
